{
 "cells": [
  {
   "cell_type": "markdown",
   "id": "7ad2c7ab",
   "metadata": {},
   "source": [
    "\n",
    "# Implementando um framework de teste\n",
    "**Atividade Prática 2 - Teste de Software**\n",
    "\n",
    "**Aluno:** João Pedro Maduro Menezes"
   ]
  },
  {
   "cell_type": "markdown",
   "id": "308f2a06",
   "metadata": {},
   "source": [
    "---\n",
    "## Implementação:"
   ]
  },
  {
   "cell_type": "code",
   "execution_count": 8,
   "id": "07dab0bc",
   "metadata": {},
   "outputs": [],
   "source": [
    "class TestCase:\n",
    "\n",
    "    def __init__(self, test_method_name):\n",
    "        self.test_method_name = test_method_name\n",
    "\n",
    "    def run(self, result):\n",
    "        result.test_started()\n",
    "        self.set_up()\n",
    "        try:\n",
    "            test_method = getattr(self, self.test_method_name)\n",
    "            test_method()\n",
    "        except AssertionError as e:\n",
    "            result.add_failure(self.test_method_name)\n",
    "        except Exception as e:\n",
    "            result.add_error(self.test_method_name)\n",
    "        self.tear_down()\n",
    "\n",
    "    def set_up(self):\n",
    "        pass\n",
    "\n",
    "    def tear_down(self):\n",
    "        pass\n",
    "\n",
    "\n",
    "class TestResult:\n",
    "\n",
    "    RUN_MSG = 'run'\n",
    "    FAILURE_MSG = 'failed'\n",
    "    ERROR_MSG = 'error'\n",
    "\n",
    "    def __init__(self, suite_name=None):\n",
    "        self.run_count = 0\n",
    "        self.failures = []\n",
    "        self.errors = []\n",
    "\n",
    "    def test_started(self):\n",
    "        self.run_count += 1\n",
    "\n",
    "    def add_failure(self, test):\n",
    "        self.failures.append(test)\n",
    "\n",
    "    def add_error(self, test):\n",
    "        self.errors.append(test)\n",
    "\n",
    "    def summary(self):\n",
    "        return f'{self.run_count} {self.RUN_MSG}, ' \\\n",
    "               f'{str(len(self.failures))} {self.FAILURE_MSG}, ' \\\n",
    "               f'{str(len(self.errors))} {self.ERROR_MSG}'"
   ]
  },
  {
   "cell_type": "markdown",
   "id": "54e576f9",
   "metadata": {},
   "source": [
    "---\n",
    "## Teste: "
   ]
  },
  {
   "cell_type": "code",
   "execution_count": 10,
   "id": "1641f8a0",
   "metadata": {},
   "outputs": [
    {
     "name": "stdout",
     "output_type": "stream",
     "text": [
      "set_up\n",
      "test_a\n",
      "tear_down\n",
      "set_up\n",
      "test_b\n",
      "tear_down\n",
      "set_up\n",
      "test_c\n",
      "tear_down\n",
      "3 run, 0 failed, 0 error\n"
     ]
    }
   ],
   "source": [
    "class MyTest(TestCase):\n",
    "\n",
    "    def set_up(self):\n",
    "        print('set_up')\n",
    "\n",
    "    def tear_down(self):\n",
    "        print('tear_down')\n",
    "\n",
    "    def test_a(self):\n",
    "        print('test_a')\n",
    "\n",
    "    def test_b(self):\n",
    "        print('test_b')\n",
    "\n",
    "    def test_c(self):\n",
    "        print('test_c')\n",
    "\n",
    "result = TestResult()\n",
    "\n",
    "test = MyTest('test_a')\n",
    "test.run(result)\n",
    "\n",
    "test = MyTest('test_b')\n",
    "test.run(result)\n",
    "\n",
    "test = MyTest('test_c')\n",
    "test.run(result)\n",
    "\n",
    "print(result.summary())"
   ]
  }
 ],
 "metadata": {
  "kernelspec": {
   "display_name": "Python 3",
   "language": "python",
   "name": "python3"
  },
  "language_info": {
   "codemirror_mode": {
    "name": "ipython",
    "version": 3
   },
   "file_extension": ".py",
   "mimetype": "text/x-python",
   "name": "python",
   "nbconvert_exporter": "python",
   "pygments_lexer": "ipython3",
   "version": "3.12.10"
  }
 },
 "nbformat": 4,
 "nbformat_minor": 5
}
