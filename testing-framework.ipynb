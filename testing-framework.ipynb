{
 "cells": [
  {
   "cell_type": "markdown",
   "id": "308f2a06",
   "metadata": {},
   "source": [
    "## Parte 2 - Criando a classe TesteCase"
   ]
  },
  {
   "cell_type": "code",
   "execution_count": 1,
   "id": "07dab0bc",
   "metadata": {},
   "outputs": [],
   "source": [
    "class TestCase:\n",
    "\n",
    "    def __init__(self, test_method_name):\n",
    "        self.test_method_name = test_method_name\n",
    "\n",
    "    def run(self):\n",
    "        self.set_up()    # chama método de setup\n",
    "        test_method = getattr(self, self.test_method_name)\n",
    "        test_method()    # chama método de teste \n",
    "        self.tear_down() # chama método de teardown \n",
    "\n",
    "    def set_up(self):\n",
    "        pass\n",
    "\n",
    "    def tear_down(self):\n",
    "        pass"
   ]
  },
  {
   "cell_type": "markdown",
   "id": "5739e059",
   "metadata": {},
   "source": [
    "- O construtor (__init__) recebe uma string com o nome do método de teste que deve ser executado. Mas como executar esse método de teste com base apenas no seu nome? Felizmente, podemos utilizar a função nativa de Python getattr. Dado uma string com o nome de um método, getattr nos permite executar esse método, por exemplo, getattr(x, 'test_foo') é equivalente a x.test_foo.\n",
    "\n",
    "- O método run implementa o padrão de projeto template method. O template method é um método em uma superclasse que define o \"esqueleto\" de um algoritmo com um conjunto de passos que devem ser redefinidos nas subclasses. Para utilizar esse algoritmo, o cliente deve criar a sua própria subclasse.\n",
    "\n",
    "- No nosso contexto de testes, o template method run define o esqueleto com os seguintes passos: chamar o método set_up, chamar o método de teste que possui nome test_method_name e chamar o método tear_down. Note que esses passos são similares ao pseudocódigo apresentado no início.\n",
    "\n",
    "Para entender melhor o funcionamento de TestCase, vamos fazer um pequeno teste. Considere a classe MyTest a seguir que estende de TestCase:"
   ]
  },
  {
   "cell_type": "code",
   "execution_count": 2,
   "id": "1641f8a0",
   "metadata": {},
   "outputs": [
    {
     "name": "stdout",
     "output_type": "stream",
     "text": [
      "set_up\n",
      "test_a\n",
      "tear_down\n",
      "set_up\n",
      "test_b\n",
      "tear_down\n",
      "set_up\n",
      "test_c\n",
      "tear_down\n"
     ]
    }
   ],
   "source": [
    "class MyTest(TestCase):\n",
    "    \n",
    "    def set_up(self):\n",
    "        print('set_up')\n",
    "\n",
    "    def tear_down(self):\n",
    "        print('tear_down')\n",
    "\n",
    "    def test_a(self):\n",
    "        print('test_a')\n",
    "\n",
    "    def test_b(self):\n",
    "        print('test_b')\n",
    "\n",
    "    def test_c(self):\n",
    "        print('test_c')\n",
    "\n",
    "test = MyTest('test_a')\n",
    "test.run()\n",
    "\n",
    "test = MyTest('test_b')\n",
    "test.run()\n",
    "\n",
    "test = MyTest('test_c')\n",
    "test.run()"
   ]
  }
 ],
 "metadata": {
  "kernelspec": {
   "display_name": "Python 3",
   "language": "python",
   "name": "python3"
  },
  "language_info": {
   "codemirror_mode": {
    "name": "ipython",
    "version": 3
   },
   "file_extension": ".py",
   "mimetype": "text/x-python",
   "name": "python",
   "nbconvert_exporter": "python",
   "pygments_lexer": "ipython3",
   "version": "3.12.10"
  }
 },
 "nbformat": 4,
 "nbformat_minor": 5
}
