{
 "cells": [
  {
   "cell_type": "markdown",
   "id": "7ad2c7ab",
   "metadata": {},
   "source": [
    "\n",
    "# Implementando um framework de teste\n",
    "**Atividade Prática 2 - Teste de Software**\n",
    "\n",
    "**Aluno:** João Pedro Maduro Menezes"
   ]
  },
  {
   "cell_type": "markdown",
   "id": "308f2a06",
   "metadata": {},
   "source": [
    "---\n",
    "## Implementação:"
   ]
  },
  {
   "cell_type": "code",
   "execution_count": 1,
   "id": "07dab0bc",
   "metadata": {},
   "outputs": [],
   "source": [
    "class TestCase:\n",
    "\n",
    "    def __init__(self, test_method_name):\n",
    "        self.test_method_name = test_method_name\n",
    "\n",
    "    def run(self):\n",
    "        self.set_up()    # chama método de setup\n",
    "        test_method = getattr(self, self.test_method_name)\n",
    "        test_method()    # chama método de teste \n",
    "        self.tear_down() # chama método de teardown \n",
    "\n",
    "    def set_up(self):\n",
    "        pass\n",
    "\n",
    "    def tear_down(self):\n",
    "        pass"
   ]
  },
  {
   "cell_type": "markdown",
   "id": "54e576f9",
   "metadata": {},
   "source": [
    "---\n",
    "## Teste: "
   ]
  },
  {
   "cell_type": "code",
   "execution_count": 2,
   "id": "1641f8a0",
   "metadata": {},
   "outputs": [
    {
     "name": "stdout",
     "output_type": "stream",
     "text": [
      "set_up\n",
      "test_a\n",
      "tear_down\n",
      "set_up\n",
      "test_b\n",
      "tear_down\n",
      "set_up\n",
      "test_c\n",
      "tear_down\n"
     ]
    }
   ],
   "source": [
    "class MyTest(TestCase):\n",
    "\n",
    "    def set_up(self):\n",
    "        print('set_up')\n",
    "\n",
    "    def tear_down(self):\n",
    "        print('tear_down')\n",
    "\n",
    "    def test_a(self):\n",
    "        print('test_a')\n",
    "\n",
    "    def test_b(self):\n",
    "        print('test_b')\n",
    "\n",
    "    def test_c(self):\n",
    "        print('test_c')\n",
    "\n",
    "test = MyTest('test_a')\n",
    "test.run()\n",
    "\n",
    "test = MyTest('test_b')\n",
    "test.run()\n",
    "\n",
    "test = MyTest('test_c')\n",
    "test.run()"
   ]
  }
 ],
 "metadata": {
  "kernelspec": {
   "display_name": "Python 3",
   "language": "python",
   "name": "python3"
  },
  "language_info": {
   "codemirror_mode": {
    "name": "ipython",
    "version": 3
   },
   "file_extension": ".py",
   "mimetype": "text/x-python",
   "name": "python",
   "nbconvert_exporter": "python",
   "pygments_lexer": "ipython3",
   "version": "3.12.10"
  }
 },
 "nbformat": 4,
 "nbformat_minor": 5
}
